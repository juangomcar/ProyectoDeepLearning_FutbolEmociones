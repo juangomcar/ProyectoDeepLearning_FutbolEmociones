{
 "cells": [
  {
   "cell_type": "code",
   "execution_count": 1,
   "id": "c21dd8e7",
   "metadata": {},
   "outputs": [
    {
     "name": "stdout",
     "output_type": "stream",
     "text": [
      "TensorFlow versión: 2.17.1\n",
      "OpenCV versión: 4.11.0\n",
      "MediaPipe versión: 0.10.21\n",
      "No hay GPU (CPU normal, igual funciona bien).\n"
     ]
    }
   ],
   "source": [
    "import tensorflow as tf\n",
    "import cv2\n",
    "import mediapipe as mp\n",
    "\n",
    "print(\"TensorFlow versión:\", tf.__version__)\n",
    "print(\"OpenCV versión:\", cv2.__version__)\n",
    "print(\"MediaPipe versión:\", mp.__version__)\n",
    "\n",
    "gpus = tf.config.list_physical_devices('GPU')\n",
    "if gpus:\n",
    "    print(\"GPU detectada:\", gpus)\n",
    "else:\n",
    "    print(\"No hay GPU (CPU normal, igual funciona bien).\")\n"
   ]
  }
 ],
 "metadata": {
  "kernelspec": {
   "display_name": "base",
   "language": "python",
   "name": "python3"
  },
  "language_info": {
   "codemirror_mode": {
    "name": "ipython",
    "version": 3
   },
   "file_extension": ".py",
   "mimetype": "text/x-python",
   "name": "python",
   "nbconvert_exporter": "python",
   "pygments_lexer": "ipython3",
   "version": "3.12.3"
  }
 },
 "nbformat": 4,
 "nbformat_minor": 5
}
