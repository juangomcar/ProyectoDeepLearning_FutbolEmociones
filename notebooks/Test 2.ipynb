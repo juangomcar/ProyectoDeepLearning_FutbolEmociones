{
 "cells": [
  {
   "cell_type": "code",
   "id": "initial_id",
   "metadata": {
    "collapsed": true,
    "ExecuteTime": {
     "end_time": "2025-10-15T04:38:07.813778Z",
     "start_time": "2025-10-15T04:38:07.492963Z"
    }
   },
   "source": [
    "import os\n",
    "import numpy as np\n",
    "import tensorflow as tf\n",
    "import matplotlib.pyplot as plt\n",
    "import seaborn as sns\n",
    "from datetime import datetime\n",
    "from sklearn.metrics import confusion_matrix, classification_report\n"
   ],
   "outputs": [],
   "execution_count": 2
  },
  {
   "metadata": {
    "ExecuteTime": {
     "end_time": "2025-10-15T04:38:12.395868Z",
     "start_time": "2025-10-15T04:38:12.392878Z"
    }
   },
   "cell_type": "code",
   "source": [
    "report_dir = os.path.join(\"..\", \"report\")\n",
    "models_dir = os.path.join(\"..\", \"models\")\n",
    "os.makedirs(report_dir, exist_ok=True)\n",
    "os.makedirs(models_dir, exist_ok=True)"
   ],
   "id": "95ac2fe214fd5e27",
   "outputs": [],
   "execution_count": 3
  },
  {
   "metadata": {
    "ExecuteTime": {
     "end_time": "2025-10-15T04:38:18.115351Z",
     "start_time": "2025-10-15T04:38:18.112244Z"
    }
   },
   "cell_type": "code",
   "source": [
    "train_dir = \"../data/raw/train\"\n",
    "class_names_all = sorted([\n",
    "    d for d in os.listdir(train_dir)\n",
    "    if os.path.isdir(os.path.join(train_dir, d))\n",
    "])"
   ],
   "id": "99dc9e6897e8553a",
   "outputs": [],
   "execution_count": 4
  },
  {
   "metadata": {
    "ExecuteTime": {
     "end_time": "2025-10-15T04:38:31.409846Z",
     "start_time": "2025-10-15T04:38:31.401578Z"
    }
   },
   "cell_type": "code",
   "source": [
    "def plot_and_save_history(history, title_prefix, out_prefix):\n",
    "    if history is None or not hasattr(history, \"history\"):\n",
    "        return\n",
    "    hist = history.history\n",
    "    # Accuracy\n",
    "    if \"accuracy\" in hist and \"val_accuracy\" in hist:\n",
    "        plt.figure(figsize=(8,4))\n",
    "        plt.plot(hist[\"accuracy\"], label=\"train\")\n",
    "        plt.plot(hist[\"val_accuracy\"], label=\"val\")\n",
    "        plt.title(f\"{title_prefix} — accuracy\")\n",
    "        plt.xlabel(\"Épocas\")\n",
    "        plt.ylabel(\"Accuracy\")\n",
    "        plt.legend()\n",
    "        plt.tight_layout()\n",
    "        plt.savefig(os.path.join(report_dir, f\"{out_prefix}_accuracy.png\"), dpi=150)\n",
    "        plt.close()\n",
    "    # Loss\n",
    "    if \"loss\" in hist and \"val_loss\" in hist:\n",
    "        plt.figure(figsize=(8,4))\n",
    "        plt.plot(hist[\"loss\"], label=\"train\")\n",
    "        plt.plot(hist[\"val_loss\"], label=\"val\")\n",
    "        plt.title(f\"{title_prefix} — loss\")\n",
    "        plt.xlabel(\"Épocas\")\n",
    "        plt.ylabel(\"Loss\")\n",
    "        plt.legend()\n",
    "        plt.tight_layout()\n",
    "        plt.savefig(os.path.join(report_dir, f\"{out_prefix}_loss.png\"), dpi=150)\n",
    "        plt.close()\n",
    "\n",
    "def evaluate_and_report(model, dataset, class_names, prefix):\n",
    "    # y_true\n",
    "    y_true = np.concatenate([y.numpy() for _, y in dataset], axis=0)\n",
    "    # y_pred\n",
    "    y_pred = []\n",
    "    for x, _ in dataset:\n",
    "        probs = model.predict(x, verbose=0)\n",
    "        y_pred.append(np.argmax(probs, axis=1))\n",
    "    y_pred = np.concatenate(y_pred, axis=0)\n",
    "\n",
    "    # accuracy\n",
    "    acc = (y_true == y_pred).mean()\n",
    "\n",
    "    # matriz de confusión\n",
    "    cm = confusion_matrix(y_true, y_pred, labels=range(len(class_names)))\n",
    "    plt.figure(figsize=(8,6))\n",
    "    sns.heatmap(cm, annot=True, fmt=\"d\", cmap=\"Blues\",\n",
    "                xticklabels=class_names, yticklabels=class_names)\n",
    "    plt.xlabel(\"Predicción\")\n",
    "    plt.ylabel(\"Real\")\n",
    "    plt.title(f\"Matriz de confusión — {prefix} (acc={acc:.4f})\")\n",
    "    plt.tight_layout()\n",
    "    plt.savefig(os.path.join(report_dir, f\"{prefix}_confusion_matrix.png\"), dpi=150)\n",
    "    plt.close()\n",
    "\n",
    "    # classification report\n",
    "    report_str = classification_report(y_true, y_pred, target_names=class_names, digits=4)\n",
    "    with open(os.path.join(report_dir, f\"{prefix}_classification_report.txt\"), \"w\", encoding=\"utf-8\") as f:\n",
    "        f.write(report_str)\n",
    "\n",
    "    return acc, report_str\n",
    "\n",
    "def plot_sample_predictions(model, dataset, class_names, prefix, max_show=16):\n",
    "    # tomar 1 batch\n",
    "    for images, labels in dataset.take(1):\n",
    "        preds = np.argmax(model.predict(images, verbose=0), axis=1)\n",
    "        n = min(max_show, images.shape[0])\n",
    "        cols = 4\n",
    "        rows = int(np.ceil(n/cols))\n",
    "        plt.figure(figsize=(cols*3, rows*3))\n",
    "        for i in range(n):\n",
    "            plt.subplot(rows, cols, i+1)\n",
    "            img = images[i].numpy()\n",
    "            if img.shape[-1] == 1:\n",
    "                plt.imshow(img.squeeze(), cmap=\"gray\")\n",
    "            else:\n",
    "                plt.imshow(img.astype(\"float32\"))\n",
    "            true_c = class_names[int(labels[i])]\n",
    "            pred_c = class_names[int(preds[i])]\n",
    "            color = \"green\" if true_c == pred_c else \"red\"\n",
    "            plt.title(f\"T:{true_c}\\nP:{pred_c}\", color=color, fontsize=9)\n",
    "            plt.axis(\"off\")\n",
    "        plt.tight_layout()\n",
    "        plt.savefig(os.path.join(report_dir, f\"{prefix}_sample_predictions.png\"), dpi=150)\n",
    "        plt.close()\n",
    "        break"
   ],
   "id": "f99f0b8321aa0e66",
   "outputs": [],
   "execution_count": 5
  },
  {
   "metadata": {
    "ExecuteTime": {
     "end_time": "2025-10-15T04:38:37.460756Z",
     "start_time": "2025-10-15T04:38:37.458055Z"
    }
   },
   "cell_type": "code",
   "source": [
    "plot_and_save_history(globals().get(\"history\", None), \"CNN base\", \"cnn_base\")\n",
    "plot_and_save_history(globals().get(\"history_tl\", None), \"MobileNetV2 (head)\", \"mobilenet_head\")\n",
    "plot_and_save_history(globals().get(\"history_finetune\", None), \"MobileNetV2 (fine-tune)\", \"mobilenet_ft\")\n"
   ],
   "id": "4f3bf29d2a4c4660",
   "outputs": [],
   "execution_count": 6
  },
  {
   "metadata": {
    "ExecuteTime": {
     "end_time": "2025-10-15T04:38:51.829342Z",
     "start_time": "2025-10-15T04:38:51.825867Z"
    }
   },
   "cell_type": "code",
   "source": [
    "results = []\n",
    "if \"model\" in globals() and \"test_ds\" in globals():\n",
    "    acc_cnn, rep_cnn = evaluate_and_report(model, test_ds, class_names_all, \"cnn_base\")\n",
    "    plot_sample_predictions(model, test_ds, class_names_all, \"cnn_base\")\n",
    "    results.append((\"CNN base\", acc_cnn))\n",
    "    print(f\"[CNN base] Test accuracy: {acc_cnn:.4f}\")\n",
    "    print(\"[CNN base] classification_report guardado en ../report/cnn_base_classification_report.txt\")\n",
    "\n",
    "\n",
    "if \"model_tl\" in globals() and \"test_ds_rgb\" in globals():\n",
    "    acc_tl, rep_tl = evaluate_and_report(model_tl, test_ds_rgb, class_names_all, \"mobilenetv2_ft\")\n",
    "    plot_sample_predictions(model_tl, test_ds_rgb, class_names_all, \"mobilenetv2_ft\")\n",
    "    results.append((\"MobileNetV2 (FT)\", acc_tl))\n",
    "    print(f\"[MobileNetV2 (FT)] Test accuracy: {acc_tl:.4f}\")\n",
    "    print(\"[MobileNetV2 (FT)] classification_report guardado en ../report/mobilenetv2_ft_classification_report.txt\")\n"
   ],
   "id": "79ce0cc49e092ef1",
   "outputs": [],
   "execution_count": 7
  },
  {
   "metadata": {
    "ExecuteTime": {
     "end_time": "2025-10-15T04:38:58.284554Z",
     "start_time": "2025-10-15T04:38:58.281406Z"
    }
   },
   "cell_type": "code",
   "source": [
    "RETRAIN_SHORT = False\n",
    "if RETRAIN_SHORT and \"val_ds\" in globals() and \"train_ds\" in globals() and \"model\" in globals():\n",
    "    lr_reduce = tf.keras.callbacks.ReduceLROnPlateau(\n",
    "        monitor=\"val_loss\", factor=0.5, patience=3, min_lr=1e-6, verbose=1\n",
    "    )\n",
    "    early_stop = tf.keras.callbacks.EarlyStopping(\n",
    "        monitor=\"val_loss\", patience=5, restore_best_weights=True\n",
    "    )\n",
    "    model.fit(\n",
    "        train_ds,\n",
    "        validation_data=val_ds,\n",
    "        epochs=10,  # corto\n",
    "        callbacks=[lr_reduce, early_stop],\n",
    "        verbose=1\n",
    "    )"
   ],
   "id": "1c0201a764bf5579",
   "outputs": [],
   "execution_count": 8
  },
  {
   "metadata": {
    "ExecuteTime": {
     "end_time": "2025-10-15T04:39:07.500711Z",
     "start_time": "2025-10-15T04:39:07.496039Z"
    }
   },
   "cell_type": "code",
   "source": [
    "if \"model_tl\" in globals():\n",
    "    converter = tf.lite.TFLiteConverter.from_keras_model(model_tl)\n",
    "    tflite_model = converter.convert()\n",
    "    tflite_path = os.path.join(models_dir, \"modelo_mobilenetv2_finetuned.tflite\")\n",
    "    with open(tflite_path, \"wb\") as f:\n",
    "        f.write(tflite_model)\n",
    "    print(f\"TFLite exportado en: {tflite_path}\")\n",
    "\n",
    "\n",
    "try:\n",
    "    import tf2onnx\n",
    "    if \"model_tl\" in globals():\n",
    "        onnx_path = os.path.join(models_dir, \"modelo_mobilenetv2_finetuned.onnx\")\n",
    "        spec = (tf.TensorSpec((None, 224, 224, 3), tf.float32, name=\"input\"),)\n",
    "        model_proto, _ = tf2onnx.convert.from_keras(model_tl, input_signature=spec, output_path=onnx_path)\n",
    "        print(f\"ONNX exportado en: {onnx_path}\")\n",
    "except Exception as e:\n",
    "    print(\"ONNX no exportado. Instala tf2onnx si lo necesitas: pip install tf2onnx\")\n",
    "    print(f\"Detalle: {e}\")"
   ],
   "id": "25cd5f3573120dfe",
   "outputs": [
    {
     "name": "stdout",
     "output_type": "stream",
     "text": [
      "ONNX no exportado. Instala tf2onnx si lo necesitas: pip install tf2onnx\n",
      "Detalle: No module named 'tf2onnx'\n"
     ]
    }
   ],
   "execution_count": 9
  },
  {
   "metadata": {
    "ExecuteTime": {
     "end_time": "2025-10-15T04:39:34.734763Z",
     "start_time": "2025-10-15T04:39:34.730135Z"
    }
   },
   "cell_type": "code",
   "source": [
    "predict_py = r'''\n",
    "import os\n",
    "import sys\n",
    "import numpy as np\n",
    "import tensorflow as tf\n",
    "from PIL import Image\n",
    "\n",
    "# Uso: python predict.py <ruta_imagen> <ruta_modelo(.keras|.h5|.tflite)>\n",
    "# Clases inferidas por orden alfabético de carpetas del train\n",
    "TRAIN_DIR = os.path.join(\"..\", \"data\", \"raw\", \"train\")\n",
    "CLASS_NAMES = sorted([d for d in os.listdir(TRAIN_DIR) if os.path.isdir(os.path.join(TRAIN_DIR, d))])\n",
    "\n",
    "def load_image(path, target_size=(224, 224), color_mode=\"rgb\"):\n",
    "    img = Image.open(path).convert(\"RGB\" if color_mode==\"rgb\" else \"L\")\n",
    "    img = img.resize(target_size)\n",
    "    arr = np.array(img).astype(\"float32\") / 255.0\n",
    "    if color_mode == \"grayscale\":\n",
    "        if arr.ndim == 2:\n",
    "            arr = np.expand_dims(arr, axis=-1)\n",
    "    return np.expand_dims(arr, axis=0)\n",
    "\n",
    "def predict_keras(model_path, image_path, color_mode=\"rgb\", target_size=(224,224)):\n",
    "    model = tf.keras.models.load_model(model_path)\n",
    "    x = load_image(image_path, target_size=target_size, color_mode=color_mode)\n",
    "    probs = model.predict(x, verbose=0)[0]\n",
    "    idx = int(np.argmax(probs))\n",
    "    return CLASS_NAMES[idx], float(probs[idx])\n",
    "\n",
    "def predict_tflite(model_path, image_path, color_mode=\"rgb\", target_size=(224,224)):\n",
    "    interpreter = tf.lite.Interpreter(model_path=model_path)\n",
    "    interpreter.allocate_tensors()\n",
    "    input_details = interpreter.get_input_details()\n",
    "    output_details = interpreter.get_output_details()\n",
    "    x = load_image(image_path, target_size=target_size, color_mode=color_mode)\n",
    "    x = x.astype(input_details[0][\"dtype\"])\n",
    "    interpreter.set_tensor(input_details[0][\"index\"], x)\n",
    "    interpreter.invoke()\n",
    "    probs = interpreter.get_tensor(output_details[0][\"index\"])[0]\n",
    "    idx = int(np.argmax(probs))\n",
    "    return CLASS_NAMES[idx], float(probs[idx])\n",
    "\n",
    "if __name__ == \"__main__\":\n",
    "    if len(sys.argv) < 3:\n",
    "        print(\"Uso: python predict.py <ruta_imagen> <ruta_modelo(.keras|.h5|.tflite)>\")\n",
    "        sys.exit(1)\n",
    "    image_path = sys.argv[1]\n",
    "    model_path = sys.argv[2]\n",
    "    ext = os.path.splitext(model_path)[1].lower()\n",
    "    if ext in [\".keras\", \".h5\"]:\n",
    "        # Asumimos MobileNetV2 fine-tuned (224,224,3) por defecto\n",
    "        label, prob = predict_keras(model_path, image_path, color_mode=\"rgb\", target_size=(224,224))\n",
    "    elif ext == \".tflite\":\n",
    "        label, prob = predict_tflite(model_path, image_path, color_mode=\"rgb\", target_size=(224,224))\n",
    "    else:\n",
    "        print(\"Formato no soportado:\", ext)\n",
    "        sys.exit(2)\n",
    "    print(f\"Predicción: {label} (confianza={prob:.4f})\")\n",
    "'''\n",
    "# escribe el archivo\n",
    "os.makedirs(os.path.join(\"..\", \"src\"), exist_ok=True)\n",
    "with open(os.path.join(\"..\", \"src\", \"predict.py\"), \"w\", encoding=\"utf-8\") as f:\n",
    "    f.write(predict_py)\n",
    "\n",
    "print(\"Archivo creado: ../src/predict.py\")"
   ],
   "id": "53941ddb526572c3",
   "outputs": [
    {
     "name": "stdout",
     "output_type": "stream",
     "text": [
      "Archivo creado: ../src/predict.py\n"
     ]
    }
   ],
   "execution_count": 10
  },
  {
   "metadata": {
    "ExecuteTime": {
     "end_time": "2025-10-15T04:39:54.628372Z",
     "start_time": "2025-10-15T04:39:54.625300Z"
    }
   },
   "cell_type": "code",
   "source": [
    "if results:\n",
    "    print(\"\\nResumen test accuracy:\")\n",
    "    for name, acc in results:\n",
    "        print(f\"- {name}: {acc:.4f}\")\n",
    "print(f\"Reportes guardados en: {report_dir}\")\n",
    "print(f\"Modelos/exportaciones en: {models_dir}\")"
   ],
   "id": "d0356611d3790037",
   "outputs": [
    {
     "name": "stdout",
     "output_type": "stream",
     "text": [
      "Reportes guardados en: ..\\report\n",
      "Modelos/exportaciones en: ..\\models\n"
     ]
    }
   ],
   "execution_count": 11
  },
  {
   "metadata": {},
   "cell_type": "code",
   "outputs": [],
   "execution_count": null,
   "source": "",
   "id": "714525a57371a1de"
  }
 ],
 "metadata": {
  "kernelspec": {
   "display_name": "Python 3",
   "language": "python",
   "name": "python3"
  },
  "language_info": {
   "codemirror_mode": {
    "name": "ipython",
    "version": 2
   },
   "file_extension": ".py",
   "mimetype": "text/x-python",
   "name": "python",
   "nbconvert_exporter": "python",
   "pygments_lexer": "ipython2",
   "version": "2.7.6"
  }
 },
 "nbformat": 4,
 "nbformat_minor": 5
}
