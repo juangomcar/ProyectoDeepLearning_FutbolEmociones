{
 "cells": [
  {
   "metadata": {},
   "cell_type": "code",
   "outputs": [],
   "execution_count": null,
   "source": "",
   "id": "eb4e0431abf32625"
  }
 ],
 "metadata": {},
 "nbformat": 4,
 "nbformat_minor": 5
}
